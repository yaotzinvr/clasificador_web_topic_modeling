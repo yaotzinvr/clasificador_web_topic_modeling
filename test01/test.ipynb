{
 "cells": [
  {
   "cell_type": "code",
   "execution_count": null,
   "metadata": {},
   "outputs": [],
   "source": [
    "N_TOPICOS_LIMITE"
   ]
  },
  {
   "cell_type": "code",
   "execution_count": 1,
   "metadata": {},
   "outputs": [],
   "source": [
    "import requests\n",
    "import webscraping\n",
    "from database import get, save, update_many\n",
    "import model\n",
    "from config import N_TOPICOS_LIMITE"
   ]
  },
  {
   "cell_type": "code",
   "execution_count": 23,
   "metadata": {},
   "outputs": [],
   "source": [
    "def verifica_limite(n_nuevos=None):\n",
    "    id_new=None\n",
    "    n_topicos=get({'config_key':'N_TOPICOS_LIMITE'},lista_variables=['value'])\n",
    "    n = 0 if len(n_topicos)==0 else n_topicos[0]\n",
    "    if n==0:\n",
    "        id_new = save({'config_key':'N_TOPICOS_LIMITE','value':0})\n",
    "    n = n_topicos['value'] if type(n_topicos)==dict else n\n",
    "    if n_nuevos==None: \n",
    "        return n_topicos\n",
    "    else:\n",
    "        if type(n_topicos)==dict:\n",
    "            n_topicos['value'] = n + n_nuevos\n",
    "        else:\n",
    "            n_topicos = {'_id':id_new,'config_key':'N_TOPICOS_LIMITE','value':n + n_nuevos}\n",
    "        update_many([n_topicos])\n",
    "        return n_topicos_mas_nuevos\n",
    "        "
   ]
  },
  {
   "cell_type": "code",
   "execution_count": 24,
   "metadata": {},
   "outputs": [
    {
     "ename": "TypeError",
     "evalue": "unsupported operand type(s) for +: 'dict' and 'int'",
     "output_type": "error",
     "traceback": [
      "\u001B[0;31m---------------------------------------------------------------------------\u001B[0m",
      "\u001B[0;31mTypeError\u001B[0m                                 Traceback (most recent call last)",
      "Input \u001B[0;32mIn [24]\u001B[0m, in \u001B[0;36m<cell line: 1>\u001B[0;34m()\u001B[0m\n\u001B[0;32m----> 1\u001B[0m \u001B[43mverifica_limite\u001B[49m\u001B[43m(\u001B[49m\u001B[38;5;241;43m1\u001B[39;49m\u001B[43m)\u001B[49m\n",
      "Input \u001B[0;32mIn [23]\u001B[0m, in \u001B[0;36mverifica_limite\u001B[0;34m(n_nuevos)\u001B[0m\n\u001B[1;32m     12\u001B[0m     n_topicos[\u001B[38;5;124m'\u001B[39m\u001B[38;5;124mvalue\u001B[39m\u001B[38;5;124m'\u001B[39m] \u001B[38;5;241m=\u001B[39m n \u001B[38;5;241m+\u001B[39m n_nuevos\n\u001B[1;32m     13\u001B[0m \u001B[38;5;28;01melse\u001B[39;00m:\n\u001B[0;32m---> 14\u001B[0m     n_topicos \u001B[38;5;241m=\u001B[39m {\u001B[38;5;124m'\u001B[39m\u001B[38;5;124m_id\u001B[39m\u001B[38;5;124m'\u001B[39m:id_new,\u001B[38;5;124m'\u001B[39m\u001B[38;5;124mconfig_key\u001B[39m\u001B[38;5;124m'\u001B[39m:\u001B[38;5;124m'\u001B[39m\u001B[38;5;124mN_TOPICOS_LIMITE\u001B[39m\u001B[38;5;124m'\u001B[39m,\u001B[38;5;124m'\u001B[39m\u001B[38;5;124mvalue\u001B[39m\u001B[38;5;124m'\u001B[39m:\u001B[43mn\u001B[49m\u001B[43m \u001B[49m\u001B[38;5;241;43m+\u001B[39;49m\u001B[43m \u001B[49m\u001B[43mn_nuevos\u001B[49m}\n\u001B[1;32m     15\u001B[0m update_many([n_topicos])\n\u001B[1;32m     16\u001B[0m \u001B[38;5;28;01mreturn\u001B[39;00m n_topicos_mas_nuevos\n",
      "\u001B[0;31mTypeError\u001B[0m: unsupported operand type(s) for +: 'dict' and 'int'"
     ]
    }
   ],
   "source": [
    "verifica_limite(1)"
   ]
  },
  {
   "cell_type": "code",
   "execution_count": null,
   "metadata": {},
   "outputs": [],
   "source": []
  },
  {
   "cell_type": "code",
   "execution_count": null,
   "metadata": {},
   "outputs": [],
   "source": []
  },
  {
   "cell_type": "code",
   "execution_count": 3,
   "metadata": {},
   "outputs": [],
   "source": [
    "if 0 : 89"
   ]
  },
  {
   "cell_type": "code",
   "execution_count": null,
   "metadata": {},
   "outputs": [],
   "source": []
  }
 ],
 "metadata": {
  "kernelspec": {
   "display_name": "Python 3 (ipykernel)",
   "language": "python",
   "name": "python3"
  },
  "language_info": {
   "codemirror_mode": {
    "name": "ipython",
    "version": 3
   },
   "file_extension": ".py",
   "mimetype": "text/x-python",
   "name": "python",
   "nbconvert_exporter": "python",
   "pygments_lexer": "ipython3",
   "version": "3.8.10"
  }
 },
 "nbformat": 4,
 "nbformat_minor": 1
}